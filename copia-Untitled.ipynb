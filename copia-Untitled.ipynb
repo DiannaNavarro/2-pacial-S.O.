{
 "cells": [
  {
   "cell_type": "code",
   "execution_count": null,
   "metadata": {},
   "outputs": [],
   "source": []
  },
  {
   "cell_type": "markdown",
   "metadata": {},
   "source": [
    "# ¿Què es un sistema operativo?\n",
    "Un sistema operativo es el software o programa más importante que se ejecuta en un computador, nos permite usarlo y darle órdenes para que haga lo que necesitamos.\n",
    "# Tipo de sistemas operativos\n",
    "Los sistemas operativos más comunes que existen para los computadores o los que te van a ofrecer en el mercado cuando estés buscando un equipo son: Microsoft Windows, Mac OS X y Linux.\n"
   ]
  },
  {
   "cell_type": "markdown",
   "metadata": {},
   "source": [
    "# Proceso\n",
    "Cada proceso proporciona los recursos necesarios para ejecutar un progtwig. Un proceso tiene un espacio de direcciones virtuales, código ejecutable, manejadores abiertos a objetos del sistema, un contexto de seguridad, un identificador de proceso único, variables de entorno, una clase de prioridad, tamaños de conjunto de trabajo mínimo y máximo y al menos un hilo de ejecución. Cada proceso se inicia con un solo subproceso, a menudo llamado subproceso principal, pero puede crear subprocesos adicionales desde cualquiera de sus subprocesos.\n",
    "\n",
    "# Hilo\n",
    "Un hilo es una entidad dentro de un proceso que puede progtwigrse para su ejecución. Todos los hilos de un proceso comparten su espacio de direcciones virtuales y recursos del sistema. Además, cada subproceso mantiene controladores de excepciones, una prioridad de progtwigción, almacenamiento local de subprocesos, un identificador de subproceso único y un conjunto de estructuras que el sistema utilizará para guardar el contexto del subproceso hasta que se programe. El contexto de subproceso incluye el conjunto de registros de máquina del subproceso, la stack de kernel, un bloque de entorno de subproceso y una stack de usuario en el espacio de direcciones del proceso del subproceso. Los subprocesos también pueden tener su propio contexto de seguridad, que se puede usar para suplantar a los clientes.\n",
    " comando nice\n"
   ]
  },
  {
   "cell_type": "markdown",
   "metadata": {},
   "source": [
    "# Diferencia entre HILO y PROCESO\n",
    "Los hilos se distinguen de los tradicionales procesos en que los procesos son generalmente independientes, llevan bastante información de estados, e interactúan sólo a través de mecanismos de comunicación dados por el sistema. Por otra parte, muchos hilos generalmente comparten otros recursos directamente. En muchos de los sistemas operativos que proveen facilidades para los hilos, es más rápido cambiar de un hilo a otro dentro del mismo proceso, que cambiar de un proceso a otro. Este fenómeno se debe a que los hilos comparten datos y espacios de direcciones, mientras que los procesos al ser independientes no lo hacen."
   ]
  },
  {
   "cell_type": "markdown",
   "metadata": {},
   "source": [
    "# Comandos Basicos "
   ]
  },
  {
   "cell_type": "markdown",
   "metadata": {},
   "source": [
    "Copiar archivos y directorios \n",
    "\n",
    "para copiar archivos t directorios en linux podemos usar el comando **cp**\n",
    "\n",
    "el primer parametro es el nombre de archivo o directorio origen, el segundo \n",
    "parametro es el archivo o ruta donde se creara la copia de este."
   ]
  },
  {
   "cell_type": "code",
   "execution_count": null,
   "metadata": {},
   "outputs": [],
   "source": []
  },
  {
   "cell_type": "markdown",
   "metadata": {},
   "source": [
    "El parametro **-l** nos muetra los archivos y añade informacion del archivo o directorio mostrando (permisos,a quien pertene y grupo al que pertenece, tamaño de disco, fecha cracion o modificacion )\n",
    "NOTA: podemos diferenciar entre un archivo o directorio inicial mostrada \n",
    "(**d** rwxr-rx-x directorio **-rw-r--r--**)."
   ]
  },
  {
   "cell_type": "code",
   "execution_count": 6,
   "metadata": {},
   "outputs": [],
   "source": [
    "cp Untitled.ipynb copia-Untitled.ipynb"
   ]
  },
  {
   "cell_type": "code",
   "execution_count": 13,
   "metadata": {},
   "outputs": [],
   "source": [
    "mkdir copiame"
   ]
  },
  {
   "cell_type": "code",
   "execution_count": 16,
   "metadata": {},
   "outputs": [],
   "source": [
    "cp Untitled.ipynb copiame/copia-untitled2.ipynd"
   ]
  },
  {
   "cell_type": "code",
   "execution_count": 17,
   "metadata": {},
   "outputs": [
    {
     "name": "stdout",
     "output_type": "stream",
     "text": [
      "copia-untitled2.ipynd\n"
     ]
    }
   ],
   "source": [
    "ls copiame"
   ]
  },
  {
   "cell_type": "code",
   "execution_count": 9,
   "metadata": {},
   "outputs": [
    {
     "name": "stdout",
     "output_type": "stream",
     "text": [
      "/home/vagrant\n"
     ]
    }
   ],
   "source": [
    "pwd"
   ]
  },
  {
   "cell_type": "markdown",
   "metadata": {},
   "source": [
    "El comando **pwd** nos imprime en consola el directorio donde estamos posicionados"
   ]
  },
  {
   "cell_type": "code",
   "execution_count": null,
   "metadata": {},
   "outputs": [],
   "source": []
  },
  {
   "cell_type": "code",
   "execution_count": 21,
   "metadata": {},
   "outputs": [],
   "source": [
    "cp copiame/copia-untitled2.ipynd ./copianueva-Unititled.ipynb"
   ]
  },
  {
   "cell_type": "markdown",
   "metadata": {},
   "source": [
    "# Comando tree\n",
    "EL comando **tree** nos permite imprimir en consola la estructura de directorios y sus archivos, lo muestra\n",
    "en un diagrama de niveles y sub.niveles\n"
   ]
  },
  {
   "cell_type": "code",
   "execution_count": 25,
   "metadata": {},
   "outputs": [
    {
     "name": "stdout",
     "output_type": "stream",
     "text": [
      "\u001b[01;34m/home\u001b[00m\n",
      "└── \u001b[01;34mvagrant\u001b[00m\n",
      "    ├── \u001b[01;34mcopiame\u001b[00m\n",
      "    │   └── copia-untitled2.ipynd\n",
      "    ├── copianueva-Unititled.ipynb\n",
      "    ├── copia-Untitled.ipynb\n",
      "    ├── \u001b[01;34mUntitled Folder\u001b[00m\n",
      "    └── Untitled.ipynb\n",
      "\n",
      "3 directories, 4 files\n"
     ]
    }
   ],
   "source": [
    "tree /home"
   ]
  },
  {
   "cell_type": "code",
   "execution_count": 1,
   "metadata": {},
   "outputs": [
    {
     "name": "stdout",
     "output_type": "stream",
     "text": [
      "/char [error opening dir]\n",
      "\n",
      "0 directories, 0 files\n"
     ]
    }
   ],
   "source": [
    "tree /char"
   ]
  },
  {
   "cell_type": "code",
   "execution_count": 4,
   "metadata": {},
   "outputs": [
    {
     "name": "stdout",
     "output_type": "stream",
     "text": [
      "UID        PID  PPID  C STIME TTY          TIME CMD\n",
      "root         1     0  0 08:31 ?        00:00:03 /sbin/init\n",
      "root         2     0  0 08:31 ?        00:00:00 [kthreadd]\n",
      "root         3     2  0 08:31 ?        00:00:00 [ksoftirqd/0]\n",
      "root         4     2  0 08:31 ?        00:00:04 [kworker/0:0]\n",
      "root         5     2  0 08:31 ?        00:00:00 [kworker/0:0H]\n",
      "root         7     2  0 08:31 ?        00:00:00 [rcu_sched]\n",
      "root         8     2  0 08:31 ?        00:00:00 [rcu_bh]\n",
      "root         9     2  0 08:31 ?        00:00:00 [migration/0]\n",
      "root        10     2  0 08:31 ?        00:00:00 [lru-add-drain]\n",
      "root        11     2  0 08:31 ?        00:00:00 [watchdog/0]\n",
      "root        12     2  0 08:31 ?        00:00:00 [cpuhp/0]\n",
      "root        13     2  0 08:31 ?        00:00:00 [kdevtmpfs]\n",
      "root        14     2  0 08:31 ?        00:00:00 [netns]\n",
      "root        15     2  0 08:31 ?        00:00:00 [khungtaskd]\n",
      "root        16     2  0 08:31 ?        00:00:00 [oom_reaper]\n",
      "root        17     2  0 08:31 ?        00:00:00 [writeback]\n",
      "root        18     2  0 08:31 ?        00:00:00 [kcompactd0]\n",
      "root        19     2  0 08:31 ?        00:00:00 [ksmd]\n",
      "root        21     2  0 08:31 ?        00:00:00 [khugepaged]\n",
      "root        22     2  0 08:31 ?        00:00:00 [crypto]\n",
      "root        23     2  0 08:31 ?        00:00:00 [kintegrityd]\n",
      "root        24     2  0 08:31 ?        00:00:00 [bioset]\n",
      "root        25     2  0 08:31 ?        00:00:00 [kblockd]\n",
      "root        26     2  0 08:31 ?        00:00:00 [devfreq_wq]\n",
      "root        27     2  0 08:31 ?        00:00:00 [watchdogd]\n",
      "root        28     2  0 08:31 ?        00:00:00 [kswapd0]\n",
      "root        29     2  0 08:31 ?        00:00:00 [vmstat]\n",
      "root        41     2  0 08:31 ?        00:00:00 [kthrotld]\n",
      "root        42     2  0 08:31 ?        00:00:00 [ipv6_addrconf]\n",
      "root        76     2  0 08:31 ?        00:00:00 [ata_sff]\n",
      "root        83     2  0 08:31 ?        00:00:00 [kworker/u2:1]\n",
      "root       103     2  0 08:31 ?        00:00:00 [scsi_eh_0]\n",
      "root       104     2  0 08:31 ?        00:00:00 [scsi_tmf_0]\n",
      "root       105     2  0 08:31 ?        00:00:00 [scsi_eh_1]\n",
      "root       106     2  0 08:31 ?        00:00:00 [scsi_tmf_1]\n",
      "root       107     2  0 08:31 ?        00:00:00 [kworker/u2:2]\n",
      "root       108     2  0 08:31 ?        00:00:00 [scsi_eh_2]\n",
      "root       109     2  0 08:31 ?        00:00:00 [scsi_tmf_2]\n",
      "root       111     2  0 08:31 ?        00:00:00 [bioset]\n",
      "root       112     2  0 08:31 ?        00:00:00 [bioset]\n",
      "root       114     2  0 08:31 ?        00:00:00 [kworker/0:1H]\n",
      "root       142     2  0 08:31 ?        00:00:00 [kworker/u3:0]\n",
      "root       152     2  0 08:31 ?        00:00:00 [jbd2/sda1-8]\n",
      "root       153     2  0 08:31 ?        00:00:00 [ext4-rsv-conver]\n",
      "root       179     1  0 08:31 ?        00:00:00 /lib/systemd/systemd-journald\n",
      "root       184     2  0 08:31 ?        00:00:00 [kauditd]\n",
      "root       205     1  0 08:31 ?        00:00:01 /lib/systemd/systemd-udevd\n",
      "root       285     2  0 08:31 ?        00:00:00 [iprt-VBoxWQueue]\n",
      "root       293     2  0 08:31 ?        00:00:00 [ttm_swap]\n",
      "root       389     1  0 08:31 ?        00:00:00 /usr/sbin/rsyslogd -n\n",
      "root       390     1  0 08:31 ?        00:00:00 /lib/systemd/systemd-logind\n",
      "message+   391     1  0 08:31 ?        00:00:00 /usr/bin/dbus-daemon --system --\n",
      "root       405     1  0 08:31 ?        00:00:00 /usr/sbin/cron -f\n",
      "root       429     1  0 08:31 ?        00:00:00 /sbin/dhclient -4 -v -pf /run/dh\n",
      "root       453     1  0 08:31 tty1     00:00:00 /sbin/agetty --noclear tty1 linu\n",
      "root       459     1  0 08:31 ?        00:00:00 /usr/sbin/sshd -D\n",
      "Debian-+   723     1  0 08:31 ?        00:00:00 /usr/sbin/exim4 -bd -q30m\n",
      "root       861     1  0 08:32 ?        00:00:01 /usr/sbin/VBoxService --pidfile \n",
      "root       872   459  0 08:37 ?        00:00:00 sshd: vagrant [priv]\n",
      "vagrant    874     1  0 08:37 ?        00:00:00 /lib/systemd/systemd --user\n",
      "vagrant    875   874  0 08:37 ?        00:00:00 (sd-pam)\n",
      "vagrant    881   872  0 08:37 ?        00:00:00 sshd: vagrant@pts/0\n",
      "vagrant    882   881  0 08:37 pts/0    00:00:00 -bash\n",
      "vagrant    971   882  1 08:42 pts/0    00:00:17 /usr/bin/python /home/vagrant/.l\n",
      "vagrant    980   971  0 08:46 ?        00:00:03 /usr/bin/python -m bash_kernel -\n",
      "vagrant    992   980  0 08:46 pts/1    00:00:00 /bin/bash --rcfile /home/vagrant\n",
      "root      1082     2  0 09:02 ?        00:00:00 [kworker/0:2]\n",
      "root      1083     2  0 09:07 ?        00:00:00 [kworker/0:1]\n",
      "vagrant   1087   992  0 09:11 pts/1    00:00:00 ps -ef\n"
     ]
    }
   ],
   "source": [
    "ps -ef"
   ]
  },
  {
   "cell_type": "code",
   "execution_count": 5,
   "metadata": {},
   "outputs": [
    {
     "name": "stdout",
     "output_type": "stream",
     "text": [
      "  PID TTY          TIME CMD\n",
      "    1 ?        00:00:03 systemd\n",
      "    2 ?        00:00:00 kthreadd\n",
      "    3 ?        00:00:00 ksoftirqd/0\n",
      "    4 ?        00:00:04 kworker/0:0\n",
      "    5 ?        00:00:00 kworker/0:0H\n",
      "    7 ?        00:00:00 rcu_sched\n",
      "    8 ?        00:00:00 rcu_bh\n",
      "    9 ?        00:00:00 migration/0\n",
      "   10 ?        00:00:00 lru-add-drain\n",
      "   11 ?        00:00:00 watchdog/0\n",
      "   12 ?        00:00:00 cpuhp/0\n",
      "   13 ?        00:00:00 kdevtmpfs\n",
      "   14 ?        00:00:00 netns\n",
      "   15 ?        00:00:00 khungtaskd\n",
      "   16 ?        00:00:00 oom_reaper\n",
      "   17 ?        00:00:00 writeback\n",
      "   18 ?        00:00:00 kcompactd0\n",
      "   19 ?        00:00:00 ksmd\n",
      "   21 ?        00:00:00 khugepaged\n",
      "   22 ?        00:00:00 crypto\n",
      "   23 ?        00:00:00 kintegrityd\n",
      "   24 ?        00:00:00 bioset\n",
      "   25 ?        00:00:00 kblockd\n",
      "   26 ?        00:00:00 devfreq_wq\n",
      "   27 ?        00:00:00 watchdogd\n",
      "   28 ?        00:00:00 kswapd0\n",
      "   29 ?        00:00:00 vmstat\n",
      "   41 ?        00:00:00 kthrotld\n",
      "   42 ?        00:00:00 ipv6_addrconf\n",
      "   76 ?        00:00:00 ata_sff\n",
      "   83 ?        00:00:00 kworker/u2:1\n",
      "  103 ?        00:00:00 scsi_eh_0\n",
      "  104 ?        00:00:00 scsi_tmf_0\n",
      "  105 ?        00:00:00 scsi_eh_1\n",
      "  106 ?        00:00:00 scsi_tmf_1\n",
      "  107 ?        00:00:00 kworker/u2:2\n",
      "  108 ?        00:00:00 scsi_eh_2\n",
      "  109 ?        00:00:00 scsi_tmf_2\n",
      "  111 ?        00:00:00 bioset\n",
      "  112 ?        00:00:00 bioset\n",
      "  114 ?        00:00:00 kworker/0:1H\n",
      "  142 ?        00:00:00 kworker/u3:0\n",
      "  152 ?        00:00:00 jbd2/sda1-8\n",
      "  153 ?        00:00:00 ext4-rsv-conver\n",
      "  179 ?        00:00:00 systemd-journal\n",
      "  184 ?        00:00:00 kauditd\n",
      "  205 ?        00:00:01 systemd-udevd\n",
      "  285 ?        00:00:00 iprt-VBoxWQueue\n",
      "  293 ?        00:00:00 ttm_swap\n",
      "  389 ?        00:00:00 rsyslogd\n",
      "  390 ?        00:00:00 systemd-logind\n",
      "  391 ?        00:00:00 dbus-daemon\n",
      "  405 ?        00:00:00 cron\n",
      "  429 ?        00:00:00 dhclient\n",
      "  453 tty1     00:00:00 agetty\n",
      "  459 ?        00:00:00 sshd\n",
      "  723 ?        00:00:00 exim4\n",
      "  861 ?        00:00:01 VBoxService\n",
      "  872 ?        00:00:00 sshd\n",
      "  874 ?        00:00:00 systemd\n",
      "  875 ?        00:00:00 (sd-pam)\n",
      "  881 ?        00:00:00 sshd\n",
      "  882 pts/0    00:00:00 bash\n",
      "  971 pts/0    00:00:20 jupyter-lab\n",
      "  980 ?        00:00:03 python\n",
      "  992 pts/1    00:00:00 bash\n",
      " 1083 ?        00:00:00 kworker/0:1\n",
      " 1088 ?        00:00:00 kworker/0:2\n",
      " 1089 pts/1    00:00:00 ps\n"
     ]
    }
   ],
   "source": [
    "ps -e"
   ]
  },
  {
   "cell_type": "code",
   "execution_count": 7,
   "metadata": {},
   "outputs": [
    {
     "name": "stdout",
     "output_type": "stream",
     "text": [
      "bash: kill: (206) - No such process\n"
     ]
    },
    {
     "ename": "",
     "evalue": "1",
     "output_type": "error",
     "traceback": []
    }
   ],
   "source": [
    "kill -9 206"
   ]
  },
  {
   "cell_type": "code",
   "execution_count": 8,
   "metadata": {},
   "outputs": [
    {
     "name": "stdout",
     "output_type": "stream",
     "text": [
      "ping: no process found\n"
     ]
    },
    {
     "ename": "",
     "evalue": "1",
     "output_type": "error",
     "traceback": []
    }
   ],
   "source": [
    "killall ping"
   ]
  },
  {
   "cell_type": "code",
   "execution_count": 9,
   "metadata": {},
   "outputs": [
    {
     "name": "stdout",
     "output_type": "stream",
     "text": [
      "nice: ‘..help’: No such file or directory\n"
     ]
    },
    {
     "ename": "",
     "evalue": "127",
     "output_type": "error",
     "traceback": []
    }
   ],
   "source": [
    "nice ..help"
   ]
  },
  {
   "cell_type": "code",
   "execution_count": 2,
   "metadata": {},
   "outputs": [
    {
     "name": "stdout",
     "output_type": "stream",
     "text": [
      "LS_COLORS=rs=0:di=01;34:ln=01;36:mh=00:pi=40;33:so=01;35:do=01;35:bd=40;33;01:cd=40;33;01:or=40;31;01:mi=00:su=37;41:sg=30;43:ca=30;41:tw=30;42:ow=34;42:st=37;44:ex=01;32:*.tar=01;31:*.tgz=01;31:*.arc=01;31:*.arj=01;31:*.taz=01;31:*.lha=01;31:*.lz4=01;31:*.lzh=01;31:*.lzma=01;31:*.tlz=01;31:*.txz=01;31:*.tzo=01;31:*.t7z=01;31:*.zip=01;31:*.z=01;31:*.Z=01;31:*.dz=01;31:*.gz=01;31:*.lrz=01;31:*.lz=01;31:*.lzo=01;31:*.xz=01;31:*.zst=01;31:*.tzst=01;31:*.bz2=01;31:*.bz=01;31:*.tbz=01;31:*.tbz2=01;31:*.tz=01;31:*.deb=01;31:*.rpm=01;31:*.jar=01;31:*.war=01;31:*.ear=01;31:*.sar=01;31:*.rar=01;31:*.alz=01;31:*.ace=01;31:*.zoo=01;31:*.cpio=01;31:*.7z=01;31:*.rz=01;31:*.cab=01;31:*.jpg=01;35:*.jpeg=01;35:*.mjpg=01;35:*.mjpeg=01;35:*.gif=01;35:*.bmp=01;35:*.pbm=01;35:*.pgm=01;35:*.ppm=01;35:*.tga=01;35:*.xbm=01;35:*.xpm=01;35:*.tif=01;35:*.tiff=01;35:*.png=01;35:*.svg=01;35:*.svgz=01;35:*.mng=01;35:*.pcx=01;35:*.mov=01;35:*.mpg=01;35:*.mpeg=01;35:*.m2v=01;35:*.mkv=01;35:*.webm=01;35:*.ogm=01;35:*.mp4=01;35:*.m4v=01;35:*.mp4v=01;35:*.vob=01;35:*.qt=01;35:*.nuv=01;35:*.wmv=01;35:*.asf=01;35:*.rm=01;35:*.rmvb=01;35:*.flc=01;35:*.avi=01;35:*.fli=01;35:*.flv=01;35:*.gl=01;35:*.dl=01;35:*.xcf=01;35:*.xwd=01;35:*.yuv=01;35:*.cgm=01;35:*.emf=01;35:*.ogv=01;35:*.ogx=01;35:*.aac=00;36:*.au=00;36:*.flac=00;36:*.m4a=00;36:*.mid=00;36:*.midi=00;36:*.mka=00;36:*.mp3=00;36:*.mpc=00;36:*.ogg=00;36:*.ra=00;36:*.wav=00;36:*.oga=00;36:*.opus=00;36:*.spx=00;36:*.xspf=00;36:\n",
      "SSH_CONNECTION=10.0.2.2 58618 10.0.2.15 22\n",
      "LANG=en_US.UTF-8\n",
      "PYENV_ROOT=/home/vagrant/.pyenv\n",
      "XDG_SESSION_ID=1\n",
      "USER=vagrant\n",
      "PAGER=cat\n",
      "JPY_PARENT_PID=875\n",
      "PWD=/home/vagrant\n",
      "HOME=/home/vagrant\n",
      "SSH_CLIENT=10.0.2.2 58618 22\n",
      "SSH_TTY=/dev/pts/0\n",
      "MAIL=/var/mail/vagrant\n",
      "SHELL=/bin/bash\n",
      "TERM=cygwin\n",
      "SHLVL=2\n",
      "PYENV_SHELL=bash\n",
      "LOGNAME=vagrant\n",
      "XDG_RUNTIME_DIR=/run/user/1000\n",
      "PATH=/home/vagrant/.pyenv/shims:/home/vagrant/.pyenv/bin:/home/vagrant/.pyenv/shims:/home/vagrant/.pyenv/bin:/usr/local/bin:/usr/bin:/bin:/usr/local/games:/usr/games:/home/vagrant/.local/bin:/home/vagrant/.local/bin\n",
      "PS1=[PEXP\\[\\]ECT_PROMPT>\n",
      "_=/usr/bin/env\n"
     ]
    }
   ],
   "source": [
    " env"
   ]
  }
 ],
 "metadata": {
  "kernelspec": {
   "display_name": "Bash",
   "language": "bash",
   "name": "bash"
  },
  "language_info": {
   "codemirror_mode": "shell",
   "file_extension": ".sh",
   "mimetype": "text/x-sh",
   "name": "bash"
  }
 },
 "nbformat": 4,
 "nbformat_minor": 2
}
